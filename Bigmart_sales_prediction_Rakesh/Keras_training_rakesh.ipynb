{
 "cells": [
  {
   "cell_type": "code",
   "execution_count": 32,
   "metadata": {
    "id": "QvbAn2z0GrtM"
   },
   "outputs": [],
   "source": [
    "import pandas as pd\n",
    "import numpy as np\n",
    "import sklearn\n",
    "from sklearn.model_selection import train_test_split\n",
    "from sklearn.metrics import accuracy_score\n",
    "import matplotlib.pyplot as plt\n",
    "import tensorflow as tf\n",
    "%matplotlib inline"
   ]
  },
  {
   "cell_type": "markdown",
   "metadata": {},
   "source": [
    " "
   ]
  },
  {
   "cell_type": "markdown",
   "metadata": {},
   "source": [
    "Preprocessing"
   ]
  },
  {
   "cell_type": "code",
   "execution_count": 34,
   "metadata": {},
   "outputs": [
    {
     "name": "stdout",
     "output_type": "stream",
     "text": [
      "Item_Identifier                 0\n",
      "Item_Weight                  1463\n",
      "Item_Fat_Content                0\n",
      "Item_Visibility                 0\n",
      "Item_Type                       0\n",
      "Item_MRP                        0\n",
      "Outlet_Identifier               0\n",
      "Outlet_Establishment_Year       0\n",
      "Outlet_Size                  2410\n",
      "Outlet_Location_Type            0\n",
      "Outlet_Type                     0\n",
      "Item_Outlet_Sales               0\n",
      "dtype: int64 \n",
      "\n",
      "Item_Identifier                 0\n",
      "Item_Weight                   976\n",
      "Item_Fat_Content                0\n",
      "Item_Visibility                 0\n",
      "Item_Type                       0\n",
      "Item_MRP                        0\n",
      "Outlet_Identifier               0\n",
      "Outlet_Establishment_Year       0\n",
      "Outlet_Size                  1606\n",
      "Outlet_Location_Type            0\n",
      "Outlet_Type                     0\n",
      "dtype: int64\n"
     ]
    }
   ],
   "source": [
    "train_data = pd.read_csv('train.csv')\n",
    "test_data = pd.read_csv('test.csv')\n",
    "# checking missing values in the data\n",
    "print(train_data.isnull().sum(),'\\n')\n",
    "print(test_data.isnull().sum())"
   ]
  },
  {
   "cell_type": "code",
   "execution_count": null,
   "metadata": {},
   "outputs": [],
   "source": [
    "# filling missing values of categorical variables with mode and mean correspondingly\n",
    "train_data['Item_Weight'].fillna(train_data['Item_Weight'].mean(),inplace=True)\n",
    "train_data['Outlet_Size'].fillna(train_data['Outlet_Size'].mode()[0],inplace=True)\n",
    "\n",
    "test_data['Item_Weight'].fillna(test_data['Item_Weight'].mean(),inplace=True)\n",
    "test_data['Outlet_Size'].fillna(test_data['Outlet_Size'].mode()[0],inplace=True)\n",
    "\n",
    "print(train_data.dtypes)\n",
    "print(test_data.dtypes)"
   ]
  },
  {
   "cell_type": "code",
   "execution_count": null,
   "metadata": {},
   "outputs": [],
   "source": [
    "# applying for loop to bring all the variables in range 0 to 1 in train\n",
    "\n",
    "for i in train_data.columns[1:]:\n",
    "    train_data[i] = (train_data[i] - train_data[i].min()) / (train_data[i].max() - train_data[i].min())\n",
    "    \n",
    "# applying for loop to bring all the variables in range 0 to 1 in train\n",
    "\n",
    "for i in test_data.columns[1:]:\n",
    "    test_data[i] = (test_data[i] - test_data[i].min()) / (test_data[i].max() - test_data[i].min())"
   ]
  },
  {
   "cell_type": "code",
   "execution_count": null,
   "metadata": {},
   "outputs": [],
   "source": [
    "# saving the pre-processed data\n",
    "train_data.to_csv('train_data_prediction.csv', index=False)\n",
    "test_data.to_csv('test_data_prediction.csv', index=False)"
   ]
  },
  {
   "cell_type": "markdown",
   "metadata": {},
   "source": [
    "   "
   ]
  },
  {
   "cell_type": "markdown",
   "metadata": {},
   "source": [
    "Linear Regression - Training"
   ]
  },
  {
   "cell_type": "code",
   "execution_count": 3,
   "metadata": {
    "id": "8AW85uDfG2DC"
   },
   "outputs": [],
   "source": [
    "train_data = pd.read_csv('train_data_prediction.csv')\n",
    "test_data = pd.read_csv('test_data_prediction.csv')"
   ]
  },
  {
   "cell_type": "code",
   "execution_count": 4,
   "metadata": {
    "colab": {
     "base_uri": "https://localhost:8080/"
    },
    "id": "cgcJ48oMHJj6",
    "outputId": "89fe55db-d7eb-406e-8355-8d464ad295c5"
   },
   "outputs": [
    {
     "data": {
      "text/plain": [
       "Item_Weight                  float64\n",
       "Item_Fat_Content             float64\n",
       "Item_Visibility              float64\n",
       "Item_Type                    float64\n",
       "Item_MRP                     float64\n",
       "Outlet_Identifier            float64\n",
       "Outlet_Establishment_Year    float64\n",
       "Outlet_Size                  float64\n",
       "Outlet_Location_Type         float64\n",
       "Outlet_Type                  float64\n",
       "Item_Outlet_Sales            float64\n",
       "dtype: object"
      ]
     },
     "execution_count": 4,
     "metadata": {},
     "output_type": "execute_result"
    }
   ],
   "source": [
    "train_data.isnull().sum()\n",
    "train_data.dtypes"
   ]
  },
  {
   "cell_type": "code",
   "execution_count": 5,
   "metadata": {
    "colab": {
     "base_uri": "https://localhost:8080/"
    },
    "id": "Q7nSZ3SNHOim",
    "outputId": "d4019752-f8ae-496f-eb7b-bda942f6684d"
   },
   "outputs": [
    {
     "data": {
      "text/plain": [
       "Item_Weight                  0\n",
       "Item_Fat_Content             0\n",
       "Item_Visibility              0\n",
       "Item_Type                    0\n",
       "Item_MRP                     0\n",
       "Outlet_Identifier            0\n",
       "Outlet_Establishment_Year    0\n",
       "Outlet_Size                  0\n",
       "Outlet_Location_Type         0\n",
       "Outlet_Type                  0\n",
       "dtype: int64"
      ]
     },
     "execution_count": 5,
     "metadata": {},
     "output_type": "execute_result"
    }
   ],
   "source": [
    "test_data.isnull().sum()"
   ]
  },
  {
   "cell_type": "code",
   "execution_count": 7,
   "metadata": {
    "id": "2bwXq8B8JAQB"
   },
   "outputs": [
    {
     "data": {
      "text/plain": [
       "((8523, 10), (8523,))"
      ]
     },
     "execution_count": 7,
     "metadata": {},
     "output_type": "execute_result"
    }
   ],
   "source": [
    "# storing all the independent variables as X\n",
    "X = train_data.drop('Item_Outlet_Sales', axis=1)\n",
    "# storing the dependent variable as y\n",
    "y = train_data['Item_Outlet_Sales']\n",
    "(X.shape), (y.shape)"
   ]
  },
  {
   "cell_type": "code",
   "execution_count": 8,
   "metadata": {
    "id": "3K8lJvqMJbn2"
   },
   "outputs": [],
   "source": [
    "\n",
    "X_train,X_test,y_train,y_test = train_test_split(X,y,random_state=10,test_size=0.2)\n"
   ]
  },
  {
   "cell_type": "code",
   "execution_count": 9,
   "metadata": {
    "id": "GUj5AhQiJnhU"
   },
   "outputs": [],
   "source": [
    "# Import training libraries\n",
    "import keras\n",
    "import tensorflow as tf\n",
    "from keras.models import Sequential\n",
    "from keras.layers import InputLayer, Dense \n",
    "\n",
    "# defining input neurons\n",
    "input_neurons = X_train.shape[1]\n",
    "output_neurons = 1\n",
    "\n",
    "# define hidden layers and neuron in each layer\n",
    "neuron_hidden_layer_1 = 900\n",
    "neuron_hidden_layer_2 = 500\n",
    "neuron_hidden_layer_3 = 100\n",
    "neuron_hidden_layer_4 = 50\n"
   ]
  },
  {
   "cell_type": "code",
   "execution_count": 10,
   "metadata": {
    "colab": {
     "base_uri": "https://localhost:8080/"
    },
    "id": "ogyt2vzVKRrL",
    "outputId": "eee2fe53-ec00-475c-a145-1a3f6b314545"
   },
   "outputs": [
    {
     "name": "stdout",
     "output_type": "stream",
     "text": [
      "Model: \"sequential\"\n",
      "_________________________________________________________________\n",
      "Layer (type)                 Output Shape              Param #   \n",
      "=================================================================\n",
      "dense (Dense)                (None, 900)               9900      \n",
      "_________________________________________________________________\n",
      "dense_1 (Dense)              (None, 500)               450500    \n",
      "_________________________________________________________________\n",
      "dense_2 (Dense)              (None, 100)               50100     \n",
      "_________________________________________________________________\n",
      "dense_3 (Dense)              (None, 50)                5050      \n",
      "_________________________________________________________________\n",
      "dense_4 (Dense)              (None, 1)                 51        \n",
      "=================================================================\n",
      "Total params: 515,601\n",
      "Trainable params: 515,601\n",
      "Non-trainable params: 0\n",
      "_________________________________________________________________\n"
     ]
    }
   ],
   "source": [
    "# defining the architecture of the model\n",
    "model = Sequential()\n",
    "# model.add(InputLayer(input_shape=(input_neurons,)))\n",
    "model.add(Dense(units=neuron_hidden_layer_1, input_dim=input_neurons,activation='sigmoid'))\n",
    "model.add(Dense(units=neuron_hidden_layer_2, activation='sigmoid'))\n",
    "model.add(Dense(units=neuron_hidden_layer_3, activation='sigmoid'))\n",
    "model.add(Dense(units=neuron_hidden_layer_4, activation='relu'))\n",
    "model.add(Dense(units=output_neurons,activation='linear'))\n",
    "model.compile(loss=\"mean_squared_error\",optimizer=\"adam\", metrics=[\"accuracy\"])\n",
    "model.summary()"
   ]
  },
  {
   "cell_type": "code",
   "execution_count": 11,
   "metadata": {
    "colab": {
     "base_uri": "https://localhost:8080/"
    },
    "id": "ktmDsNanKRrO",
    "outputId": "ffa4bc08-49ff-4077-9eac-d9018b8dbe89"
   },
   "outputs": [
    {
     "name": "stdout",
     "output_type": "stream",
     "text": [
      "Epoch 1/200\n",
      "214/214 [==============================] - 1s 5ms/step - loss: 0.0302 - accuracy: 1.4667e-04 - val_loss: 0.0181 - val_accuracy: 5.8651e-04\n",
      "Epoch 2/200\n",
      "214/214 [==============================] - 1s 5ms/step - loss: 0.0171 - accuracy: 1.4667e-04 - val_loss: 0.0165 - val_accuracy: 5.8651e-04\n",
      "Epoch 3/200\n",
      "214/214 [==============================] - 1s 5ms/step - loss: 0.0147 - accuracy: 1.4667e-04 - val_loss: 0.0344 - val_accuracy: 5.8651e-04\n",
      "Epoch 4/200\n",
      "214/214 [==============================] - 1s 5ms/step - loss: 0.0120 - accuracy: 1.4667e-04 - val_loss: 0.0101 - val_accuracy: 5.8651e-04\n",
      "Epoch 5/200\n",
      "214/214 [==============================] - 1s 5ms/step - loss: 0.0101 - accuracy: 1.4667e-04 - val_loss: 0.0134 - val_accuracy: 5.8651e-04\n",
      "Epoch 6/200\n",
      "214/214 [==============================] - 1s 5ms/step - loss: 0.0101 - accuracy: 1.4667e-04 - val_loss: 0.0124 - val_accuracy: 5.8651e-04\n",
      "Epoch 7/200\n",
      "214/214 [==============================] - 1s 5ms/step - loss: 0.0099 - accuracy: 1.4667e-04 - val_loss: 0.0088 - val_accuracy: 5.8651e-04\n",
      "Epoch 8/200\n",
      "214/214 [==============================] - 1s 5ms/step - loss: 0.0100 - accuracy: 1.4667e-04 - val_loss: 0.0087 - val_accuracy: 5.8651e-04\n",
      "Epoch 9/200\n",
      "214/214 [==============================] - 1s 5ms/step - loss: 0.0104 - accuracy: 1.4667e-04 - val_loss: 0.0086 - val_accuracy: 5.8651e-04\n",
      "Epoch 10/200\n",
      "214/214 [==============================] - 1s 5ms/step - loss: 0.0095 - accuracy: 1.4667e-04 - val_loss: 0.0086 - val_accuracy: 5.8651e-04\n",
      "Epoch 11/200\n",
      "214/214 [==============================] - 1s 5ms/step - loss: 0.0093 - accuracy: 1.4667e-04 - val_loss: 0.0141 - val_accuracy: 5.8651e-04\n",
      "Epoch 12/200\n",
      "214/214 [==============================] - 1s 5ms/step - loss: 0.0094 - accuracy: 1.4667e-04 - val_loss: 0.0091 - val_accuracy: 5.8651e-04\n",
      "Epoch 13/200\n",
      "214/214 [==============================] - 1s 5ms/step - loss: 0.0092 - accuracy: 1.4667e-04 - val_loss: 0.0096 - val_accuracy: 5.8651e-04\n",
      "Epoch 14/200\n",
      "214/214 [==============================] - 1s 5ms/step - loss: 0.0095 - accuracy: 1.4667e-04 - val_loss: 0.0085 - val_accuracy: 5.8651e-04\n",
      "Epoch 15/200\n",
      "214/214 [==============================] - 1s 5ms/step - loss: 0.0094 - accuracy: 1.4667e-04 - val_loss: 0.0128 - val_accuracy: 5.8651e-04\n",
      "Epoch 16/200\n",
      "214/214 [==============================] - 1s 5ms/step - loss: 0.0095 - accuracy: 1.4667e-04 - val_loss: 0.0106 - val_accuracy: 5.8651e-04\n",
      "Epoch 17/200\n",
      "214/214 [==============================] - 1s 5ms/step - loss: 0.0093 - accuracy: 1.4667e-04 - val_loss: 0.0129 - val_accuracy: 5.8651e-04\n",
      "Epoch 18/200\n",
      "214/214 [==============================] - 1s 5ms/step - loss: 0.0090 - accuracy: 1.4667e-04 - val_loss: 0.0083 - val_accuracy: 5.8651e-04\n",
      "Epoch 19/200\n",
      "214/214 [==============================] - 1s 5ms/step - loss: 0.0088 - accuracy: 1.4667e-04 - val_loss: 0.0149 - val_accuracy: 5.8651e-04\n",
      "Epoch 20/200\n",
      "214/214 [==============================] - 1s 5ms/step - loss: 0.0092 - accuracy: 1.4667e-04 - val_loss: 0.0080 - val_accuracy: 5.8651e-04\n",
      "Epoch 21/200\n",
      "214/214 [==============================] - 1s 5ms/step - loss: 0.0086 - accuracy: 1.4667e-04 - val_loss: 0.0082 - val_accuracy: 5.8651e-04\n",
      "Epoch 22/200\n",
      "214/214 [==============================] - 1s 5ms/step - loss: 0.0086 - accuracy: 1.4667e-04 - val_loss: 0.0086 - val_accuracy: 5.8651e-04\n",
      "Epoch 23/200\n",
      "214/214 [==============================] - 1s 5ms/step - loss: 0.0085 - accuracy: 1.4667e-04 - val_loss: 0.0077 - val_accuracy: 5.8651e-04\n",
      "Epoch 24/200\n",
      "214/214 [==============================] - 1s 5ms/step - loss: 0.0080 - accuracy: 1.4667e-04 - val_loss: 0.0092 - val_accuracy: 0.0012\n",
      "Epoch 25/200\n",
      "214/214 [==============================] - 1s 5ms/step - loss: 0.0083 - accuracy: 1.4667e-04 - val_loss: 0.0075 - val_accuracy: 5.8651e-04\n",
      "Epoch 26/200\n",
      "214/214 [==============================] - 1s 5ms/step - loss: 0.0079 - accuracy: 1.4667e-04 - val_loss: 0.0074 - val_accuracy: 5.8651e-04\n",
      "Epoch 27/200\n",
      "214/214 [==============================] - 1s 5ms/step - loss: 0.0078 - accuracy: 1.4667e-04 - val_loss: 0.0080 - val_accuracy: 5.8651e-04\n",
      "Epoch 28/200\n",
      "214/214 [==============================] - 1s 5ms/step - loss: 0.0079 - accuracy: 1.4667e-04 - val_loss: 0.0074 - val_accuracy: 5.8651e-04\n",
      "Epoch 29/200\n",
      "214/214 [==============================] - 1s 5ms/step - loss: 0.0076 - accuracy: 1.4667e-04 - val_loss: 0.0075 - val_accuracy: 5.8651e-04\n",
      "Epoch 30/200\n",
      "214/214 [==============================] - 1s 5ms/step - loss: 0.0076 - accuracy: 1.4667e-04 - val_loss: 0.0071 - val_accuracy: 5.8651e-04\n",
      "Epoch 31/200\n",
      "214/214 [==============================] - 1s 5ms/step - loss: 0.0076 - accuracy: 1.4667e-04 - val_loss: 0.0075 - val_accuracy: 5.8651e-04\n",
      "Epoch 32/200\n",
      "214/214 [==============================] - 1s 5ms/step - loss: 0.0075 - accuracy: 1.4667e-04 - val_loss: 0.0069 - val_accuracy: 5.8651e-04\n",
      "Epoch 33/200\n",
      "214/214 [==============================] - 1s 5ms/step - loss: 0.0075 - accuracy: 1.4667e-04 - val_loss: 0.0069 - val_accuracy: 5.8651e-04\n",
      "Epoch 34/200\n",
      "214/214 [==============================] - 1s 5ms/step - loss: 0.0075 - accuracy: 1.4667e-04 - val_loss: 0.0077 - val_accuracy: 5.8651e-04\n",
      "Epoch 35/200\n",
      "214/214 [==============================] - 1s 5ms/step - loss: 0.0075 - accuracy: 1.4667e-04 - val_loss: 0.0070 - val_accuracy: 5.8651e-04\n",
      "Epoch 36/200\n",
      "214/214 [==============================] - 1s 5ms/step - loss: 0.0076 - accuracy: 1.4667e-04 - val_loss: 0.0072 - val_accuracy: 5.8651e-04\n",
      "Epoch 37/200\n",
      "214/214 [==============================] - 1s 5ms/step - loss: 0.0073 - accuracy: 1.4667e-04 - val_loss: 0.0076 - val_accuracy: 5.8651e-04\n",
      "Epoch 38/200\n",
      "214/214 [==============================] - 1s 5ms/step - loss: 0.0077 - accuracy: 1.4667e-04 - val_loss: 0.0073 - val_accuracy: 5.8651e-04\n",
      "Epoch 39/200\n",
      "214/214 [==============================] - 1s 5ms/step - loss: 0.0073 - accuracy: 1.4667e-04 - val_loss: 0.0074 - val_accuracy: 5.8651e-04\n",
      "Epoch 40/200\n",
      "214/214 [==============================] - 1s 5ms/step - loss: 0.0073 - accuracy: 1.4667e-04 - val_loss: 0.0070 - val_accuracy: 5.8651e-04\n",
      "Epoch 41/200\n",
      "214/214 [==============================] - 1s 5ms/step - loss: 0.0075 - accuracy: 1.4667e-04 - val_loss: 0.0075 - val_accuracy: 5.8651e-04\n",
      "Epoch 42/200\n",
      "214/214 [==============================] - 1s 5ms/step - loss: 0.0073 - accuracy: 1.4667e-04 - val_loss: 0.0073 - val_accuracy: 5.8651e-04\n",
      "Epoch 43/200\n",
      "214/214 [==============================] - 1s 5ms/step - loss: 0.0073 - accuracy: 1.4667e-04 - val_loss: 0.0071 - val_accuracy: 5.8651e-04\n",
      "Epoch 44/200\n",
      "214/214 [==============================] - 1s 5ms/step - loss: 0.0072 - accuracy: 1.4667e-04 - val_loss: 0.0071 - val_accuracy: 5.8651e-04\n",
      "Epoch 45/200\n",
      "214/214 [==============================] - 1s 5ms/step - loss: 0.0071 - accuracy: 1.4667e-04 - val_loss: 0.0080 - val_accuracy: 5.8651e-04\n",
      "Epoch 46/200\n",
      "214/214 [==============================] - 1s 5ms/step - loss: 0.0073 - accuracy: 1.4667e-04 - val_loss: 0.0070 - val_accuracy: 5.8651e-04\n",
      "Epoch 47/200\n",
      "214/214 [==============================] - 1s 6ms/step - loss: 0.0072 - accuracy: 1.4667e-04 - val_loss: 0.0070 - val_accuracy: 5.8651e-04\n",
      "Epoch 48/200\n",
      "214/214 [==============================] - 1s 5ms/step - loss: 0.0072 - accuracy: 1.4667e-04 - val_loss: 0.0069 - val_accuracy: 5.8651e-04\n",
      "Epoch 49/200\n",
      "214/214 [==============================] - 1s 5ms/step - loss: 0.0074 - accuracy: 1.4667e-04 - val_loss: 0.0073 - val_accuracy: 5.8651e-04\n",
      "Epoch 50/200\n",
      "214/214 [==============================] - 1s 5ms/step - loss: 0.0071 - accuracy: 1.4667e-04 - val_loss: 0.0068 - val_accuracy: 5.8651e-04\n",
      "Epoch 51/200\n",
      "214/214 [==============================] - 1s 5ms/step - loss: 0.0072 - accuracy: 1.4667e-04 - val_loss: 0.0071 - val_accuracy: 5.8651e-04\n",
      "Epoch 52/200\n",
      "214/214 [==============================] - 1s 5ms/step - loss: 0.0072 - accuracy: 1.4667e-04 - val_loss: 0.0068 - val_accuracy: 5.8651e-04\n",
      "Epoch 53/200\n",
      "214/214 [==============================] - 1s 5ms/step - loss: 0.0072 - accuracy: 1.4667e-04 - val_loss: 0.0072 - val_accuracy: 5.8651e-04\n",
      "Epoch 54/200\n",
      "214/214 [==============================] - 1s 5ms/step - loss: 0.0072 - accuracy: 1.4667e-04 - val_loss: 0.0068 - val_accuracy: 5.8651e-04\n",
      "Epoch 55/200\n",
      "214/214 [==============================] - 1s 5ms/step - loss: 0.0072 - accuracy: 1.4667e-04 - val_loss: 0.0084 - val_accuracy: 5.8651e-04\n",
      "Epoch 56/200\n",
      "214/214 [==============================] - 1s 5ms/step - loss: 0.0072 - accuracy: 1.4667e-04 - val_loss: 0.0072 - val_accuracy: 5.8651e-04\n",
      "Epoch 57/200\n",
      "214/214 [==============================] - 1s 5ms/step - loss: 0.0074 - accuracy: 1.4667e-04 - val_loss: 0.0069 - val_accuracy: 5.8651e-04\n",
      "Epoch 58/200\n",
      "214/214 [==============================] - 1s 5ms/step - loss: 0.0072 - accuracy: 1.4667e-04 - val_loss: 0.0070 - val_accuracy: 5.8651e-04\n",
      "Epoch 59/200\n",
      "214/214 [==============================] - 1s 5ms/step - loss: 0.0072 - accuracy: 1.4667e-04 - val_loss: 0.0074 - val_accuracy: 5.8651e-04\n",
      "Epoch 60/200\n",
      "214/214 [==============================] - 1s 5ms/step - loss: 0.0072 - accuracy: 1.4667e-04 - val_loss: 0.0069 - val_accuracy: 5.8651e-04\n",
      "Epoch 61/200\n",
      "214/214 [==============================] - 1s 5ms/step - loss: 0.0072 - accuracy: 1.4667e-04 - val_loss: 0.0072 - val_accuracy: 5.8651e-04\n",
      "Epoch 62/200\n",
      "214/214 [==============================] - 1s 5ms/step - loss: 0.0072 - accuracy: 1.4667e-04 - val_loss: 0.0070 - val_accuracy: 5.8651e-04\n",
      "Epoch 63/200\n",
      "214/214 [==============================] - 1s 5ms/step - loss: 0.0071 - accuracy: 1.4667e-04 - val_loss: 0.0070 - val_accuracy: 5.8651e-04\n",
      "Epoch 64/200\n",
      "214/214 [==============================] - 1s 5ms/step - loss: 0.0072 - accuracy: 1.4667e-04 - val_loss: 0.0069 - val_accuracy: 5.8651e-04\n",
      "Epoch 65/200\n",
      "214/214 [==============================] - 1s 5ms/step - loss: 0.0072 - accuracy: 1.4667e-04 - val_loss: 0.0069 - val_accuracy: 5.8651e-04\n",
      "Epoch 66/200\n",
      "214/214 [==============================] - 1s 5ms/step - loss: 0.0072 - accuracy: 1.4667e-04 - val_loss: 0.0068 - val_accuracy: 5.8651e-04\n",
      "Epoch 67/200\n",
      "214/214 [==============================] - 1s 5ms/step - loss: 0.0070 - accuracy: 1.4667e-04 - val_loss: 0.0069 - val_accuracy: 5.8651e-04\n",
      "Epoch 68/200\n",
      "214/214 [==============================] - 1s 5ms/step - loss: 0.0071 - accuracy: 1.4667e-04 - val_loss: 0.0070 - val_accuracy: 5.8651e-04\n",
      "Epoch 69/200\n",
      "214/214 [==============================] - 1s 5ms/step - loss: 0.0071 - accuracy: 1.4667e-04 - val_loss: 0.0068 - val_accuracy: 5.8651e-04\n",
      "Epoch 70/200\n",
      "214/214 [==============================] - 1s 5ms/step - loss: 0.0071 - accuracy: 1.4667e-04 - val_loss: 0.0069 - val_accuracy: 5.8651e-04\n",
      "Epoch 71/200\n",
      "214/214 [==============================] - 1s 5ms/step - loss: 0.0071 - accuracy: 1.4667e-04 - val_loss: 0.0074 - val_accuracy: 5.8651e-04\n",
      "Epoch 72/200\n",
      "214/214 [==============================] - 1s 5ms/step - loss: 0.0071 - accuracy: 1.4667e-04 - val_loss: 0.0068 - val_accuracy: 5.8651e-04\n",
      "Epoch 73/200\n",
      "214/214 [==============================] - 1s 5ms/step - loss: 0.0072 - accuracy: 1.4667e-04 - val_loss: 0.0068 - val_accuracy: 5.8651e-04\n",
      "Epoch 74/200\n",
      "214/214 [==============================] - 1s 5ms/step - loss: 0.0072 - accuracy: 1.4667e-04 - val_loss: 0.0068 - val_accuracy: 5.8651e-04\n",
      "Epoch 75/200\n",
      "214/214 [==============================] - 1s 5ms/step - loss: 0.0070 - accuracy: 1.4667e-04 - val_loss: 0.0073 - val_accuracy: 5.8651e-04\n",
      "Epoch 76/200\n",
      "214/214 [==============================] - 1s 5ms/step - loss: 0.0071 - accuracy: 1.4667e-04 - val_loss: 0.0067 - val_accuracy: 5.8651e-04\n",
      "Epoch 77/200\n",
      "214/214 [==============================] - 1s 5ms/step - loss: 0.0071 - accuracy: 1.4667e-04 - val_loss: 0.0069 - val_accuracy: 5.8651e-04\n",
      "Epoch 78/200\n",
      "214/214 [==============================] - 1s 5ms/step - loss: 0.0071 - accuracy: 1.4667e-04 - val_loss: 0.0068 - val_accuracy: 5.8651e-04\n",
      "Epoch 79/200\n",
      "214/214 [==============================] - 1s 5ms/step - loss: 0.0071 - accuracy: 1.4667e-04 - val_loss: 0.0070 - val_accuracy: 5.8651e-04\n",
      "Epoch 80/200\n",
      "214/214 [==============================] - 1s 5ms/step - loss: 0.0071 - accuracy: 1.4667e-04 - val_loss: 0.0070 - val_accuracy: 5.8651e-04\n",
      "Epoch 81/200\n",
      "214/214 [==============================] - 1s 5ms/step - loss: 0.0071 - accuracy: 1.4667e-04 - val_loss: 0.0070 - val_accuracy: 5.8651e-04\n",
      "Epoch 82/200\n",
      "214/214 [==============================] - 1s 5ms/step - loss: 0.0070 - accuracy: 1.4667e-04 - val_loss: 0.0069 - val_accuracy: 5.8651e-04\n",
      "Epoch 83/200\n",
      "214/214 [==============================] - 1s 5ms/step - loss: 0.0070 - accuracy: 1.4667e-04 - val_loss: 0.0071 - val_accuracy: 5.8651e-04\n",
      "Epoch 84/200\n",
      "214/214 [==============================] - 1s 5ms/step - loss: 0.0071 - accuracy: 1.4667e-04 - val_loss: 0.0070 - val_accuracy: 5.8651e-04\n",
      "Epoch 85/200\n",
      "214/214 [==============================] - 1s 5ms/step - loss: 0.0070 - accuracy: 1.4667e-04 - val_loss: 0.0071 - val_accuracy: 5.8651e-04\n",
      "Epoch 86/200\n",
      "214/214 [==============================] - 1s 5ms/step - loss: 0.0070 - accuracy: 1.4667e-04 - val_loss: 0.0069 - val_accuracy: 5.8651e-04\n",
      "Epoch 87/200\n",
      "214/214 [==============================] - 1s 5ms/step - loss: 0.0070 - accuracy: 1.4667e-04 - val_loss: 0.0075 - val_accuracy: 5.8651e-04\n",
      "Epoch 88/200\n",
      "214/214 [==============================] - 1s 5ms/step - loss: 0.0071 - accuracy: 1.4667e-04 - val_loss: 0.0068 - val_accuracy: 5.8651e-04\n",
      "Epoch 89/200\n",
      "214/214 [==============================] - 1s 5ms/step - loss: 0.0070 - accuracy: 1.4667e-04 - val_loss: 0.0069 - val_accuracy: 5.8651e-04\n",
      "Epoch 90/200\n",
      "214/214 [==============================] - 1s 5ms/step - loss: 0.0070 - accuracy: 1.4667e-04 - val_loss: 0.0068 - val_accuracy: 5.8651e-04\n",
      "Epoch 91/200\n",
      "214/214 [==============================] - 1s 5ms/step - loss: 0.0070 - accuracy: 1.4667e-04 - val_loss: 0.0067 - val_accuracy: 5.8651e-04\n",
      "Epoch 92/200\n",
      "214/214 [==============================] - 1s 5ms/step - loss: 0.0071 - accuracy: 1.4667e-04 - val_loss: 0.0070 - val_accuracy: 5.8651e-04\n",
      "Epoch 93/200\n",
      "214/214 [==============================] - 1s 6ms/step - loss: 0.0070 - accuracy: 1.4667e-04 - val_loss: 0.0068 - val_accuracy: 5.8651e-04\n",
      "Epoch 94/200\n",
      "214/214 [==============================] - 1s 6ms/step - loss: 0.0070 - accuracy: 1.4667e-04 - val_loss: 0.0070 - val_accuracy: 5.8651e-04\n",
      "Epoch 95/200\n",
      "214/214 [==============================] - 1s 5ms/step - loss: 0.0070 - accuracy: 1.4667e-04 - val_loss: 0.0071 - val_accuracy: 5.8651e-04\n",
      "Epoch 96/200\n",
      "214/214 [==============================] - 1s 5ms/step - loss: 0.0070 - accuracy: 1.4667e-04 - val_loss: 0.0074 - val_accuracy: 5.8651e-04\n",
      "Epoch 97/200\n",
      "214/214 [==============================] - 1s 5ms/step - loss: 0.0070 - accuracy: 1.4667e-04 - val_loss: 0.0073 - val_accuracy: 5.8651e-04\n",
      "Epoch 98/200\n",
      "214/214 [==============================] - 1s 5ms/step - loss: 0.0070 - accuracy: 1.4667e-04 - val_loss: 0.0069 - val_accuracy: 5.8651e-04\n",
      "Epoch 99/200\n",
      "214/214 [==============================] - 1s 5ms/step - loss: 0.0070 - accuracy: 1.4667e-04 - val_loss: 0.0068 - val_accuracy: 5.8651e-04\n",
      "Epoch 100/200\n",
      "214/214 [==============================] - 1s 5ms/step - loss: 0.0070 - accuracy: 1.4667e-04 - val_loss: 0.0068 - val_accuracy: 5.8651e-04\n",
      "Epoch 101/200\n",
      "214/214 [==============================] - 1s 5ms/step - loss: 0.0069 - accuracy: 1.4667e-04 - val_loss: 0.0070 - val_accuracy: 5.8651e-04\n",
      "Epoch 102/200\n",
      "214/214 [==============================] - 1s 5ms/step - loss: 0.0070 - accuracy: 1.4667e-04 - val_loss: 0.0068 - val_accuracy: 5.8651e-04\n",
      "Epoch 103/200\n",
      "214/214 [==============================] - 1s 5ms/step - loss: 0.0070 - accuracy: 1.4667e-04 - val_loss: 0.0067 - val_accuracy: 5.8651e-04\n",
      "Epoch 104/200\n",
      "214/214 [==============================] - 1s 5ms/step - loss: 0.0070 - accuracy: 1.4667e-04 - val_loss: 0.0067 - val_accuracy: 5.8651e-04\n",
      "Epoch 105/200\n",
      "214/214 [==============================] - 1s 6ms/step - loss: 0.0070 - accuracy: 1.4667e-04 - val_loss: 0.0068 - val_accuracy: 5.8651e-04\n",
      "Epoch 106/200\n",
      "214/214 [==============================] - 1s 5ms/step - loss: 0.0070 - accuracy: 1.4667e-04 - val_loss: 0.0069 - val_accuracy: 5.8651e-04\n",
      "Epoch 107/200\n",
      "214/214 [==============================] - 1s 5ms/step - loss: 0.0071 - accuracy: 1.4667e-04 - val_loss: 0.0068 - val_accuracy: 5.8651e-04\n",
      "Epoch 108/200\n",
      "214/214 [==============================] - 1s 5ms/step - loss: 0.0070 - accuracy: 1.4667e-04 - val_loss: 0.0074 - val_accuracy: 5.8651e-04\n",
      "Epoch 109/200\n",
      "214/214 [==============================] - 1s 5ms/step - loss: 0.0070 - accuracy: 1.4667e-04 - val_loss: 0.0069 - val_accuracy: 5.8651e-04\n",
      "Epoch 110/200\n",
      "214/214 [==============================] - 1s 6ms/step - loss: 0.0070 - accuracy: 1.4667e-04 - val_loss: 0.0069 - val_accuracy: 5.8651e-04\n",
      "Epoch 111/200\n",
      "214/214 [==============================] - 1s 5ms/step - loss: 0.0070 - accuracy: 1.4667e-04 - val_loss: 0.0067 - val_accuracy: 5.8651e-04\n",
      "Epoch 112/200\n",
      "214/214 [==============================] - 1s 5ms/step - loss: 0.0070 - accuracy: 1.4667e-04 - val_loss: 0.0067 - val_accuracy: 5.8651e-04\n",
      "Epoch 113/200\n",
      "214/214 [==============================] - 1s 5ms/step - loss: 0.0069 - accuracy: 1.4667e-04 - val_loss: 0.0070 - val_accuracy: 5.8651e-04\n",
      "Epoch 114/200\n",
      "214/214 [==============================] - 1s 5ms/step - loss: 0.0070 - accuracy: 1.4667e-04 - val_loss: 0.0067 - val_accuracy: 5.8651e-04\n",
      "Epoch 115/200\n",
      "214/214 [==============================] - 1s 5ms/step - loss: 0.0070 - accuracy: 1.4667e-04 - val_loss: 0.0067 - val_accuracy: 5.8651e-04\n",
      "Epoch 116/200\n",
      "214/214 [==============================] - 1s 5ms/step - loss: 0.0069 - accuracy: 1.4667e-04 - val_loss: 0.0067 - val_accuracy: 5.8651e-04\n",
      "Epoch 117/200\n",
      "214/214 [==============================] - 1s 5ms/step - loss: 0.0070 - accuracy: 1.4667e-04 - val_loss: 0.0070 - val_accuracy: 5.8651e-04\n",
      "Epoch 118/200\n",
      "214/214 [==============================] - 1s 5ms/step - loss: 0.0069 - accuracy: 1.4667e-04 - val_loss: 0.0067 - val_accuracy: 5.8651e-04\n",
      "Epoch 119/200\n",
      "214/214 [==============================] - 1s 5ms/step - loss: 0.0069 - accuracy: 1.4667e-04 - val_loss: 0.0067 - val_accuracy: 5.8651e-04\n",
      "Epoch 120/200\n",
      "214/214 [==============================] - 1s 5ms/step - loss: 0.0070 - accuracy: 1.4667e-04 - val_loss: 0.0068 - val_accuracy: 5.8651e-04\n",
      "Epoch 121/200\n",
      "214/214 [==============================] - 1s 4ms/step - loss: 0.0069 - accuracy: 1.4667e-04 - val_loss: 0.0067 - val_accuracy: 5.8651e-04\n",
      "Epoch 122/200\n",
      "214/214 [==============================] - 1s 5ms/step - loss: 0.0070 - accuracy: 1.4667e-04 - val_loss: 0.0068 - val_accuracy: 5.8651e-04\n",
      "Epoch 123/200\n",
      "214/214 [==============================] - 1s 5ms/step - loss: 0.0069 - accuracy: 1.4667e-04 - val_loss: 0.0068 - val_accuracy: 5.8651e-04\n",
      "Epoch 124/200\n",
      "214/214 [==============================] - 1s 5ms/step - loss: 0.0069 - accuracy: 1.4667e-04 - val_loss: 0.0067 - val_accuracy: 5.8651e-04\n",
      "Epoch 125/200\n",
      "214/214 [==============================] - 1s 5ms/step - loss: 0.0069 - accuracy: 1.4667e-04 - val_loss: 0.0068 - val_accuracy: 5.8651e-04\n",
      "Epoch 126/200\n",
      "214/214 [==============================] - 1s 5ms/step - loss: 0.0069 - accuracy: 1.4667e-04 - val_loss: 0.0069 - val_accuracy: 5.8651e-04\n",
      "Epoch 127/200\n",
      "214/214 [==============================] - 1s 5ms/step - loss: 0.0070 - accuracy: 1.4667e-04 - val_loss: 0.0067 - val_accuracy: 5.8651e-04\n",
      "Epoch 128/200\n",
      "214/214 [==============================] - 1s 5ms/step - loss: 0.0069 - accuracy: 1.4667e-04 - val_loss: 0.0068 - val_accuracy: 5.8651e-04\n",
      "Epoch 129/200\n",
      "214/214 [==============================] - 1s 5ms/step - loss: 0.0069 - accuracy: 1.4667e-04 - val_loss: 0.0070 - val_accuracy: 5.8651e-04\n",
      "Epoch 130/200\n",
      "214/214 [==============================] - 1s 5ms/step - loss: 0.0070 - accuracy: 1.4667e-04 - val_loss: 0.0068 - val_accuracy: 5.8651e-04\n",
      "Epoch 131/200\n",
      "214/214 [==============================] - 1s 5ms/step - loss: 0.0069 - accuracy: 1.4667e-04 - val_loss: 0.0067 - val_accuracy: 5.8651e-04\n",
      "Epoch 132/200\n",
      "214/214 [==============================] - 1s 5ms/step - loss: 0.0069 - accuracy: 1.4667e-04 - val_loss: 0.0068 - val_accuracy: 5.8651e-04\n",
      "Epoch 133/200\n",
      "214/214 [==============================] - 1s 5ms/step - loss: 0.0069 - accuracy: 1.4667e-04 - val_loss: 0.0067 - val_accuracy: 5.8651e-04\n",
      "Epoch 134/200\n",
      "214/214 [==============================] - 1s 5ms/step - loss: 0.0069 - accuracy: 1.4667e-04 - val_loss: 0.0071 - val_accuracy: 5.8651e-04\n",
      "Epoch 135/200\n",
      "214/214 [==============================] - 1s 5ms/step - loss: 0.0070 - accuracy: 1.4667e-04 - val_loss: 0.0069 - val_accuracy: 5.8651e-04\n",
      "Epoch 136/200\n",
      "214/214 [==============================] - 1s 5ms/step - loss: 0.0070 - accuracy: 1.4667e-04 - val_loss: 0.0067 - val_accuracy: 5.8651e-04\n",
      "Epoch 137/200\n",
      "214/214 [==============================] - 1s 5ms/step - loss: 0.0070 - accuracy: 1.4667e-04 - val_loss: 0.0067 - val_accuracy: 5.8651e-04\n",
      "Epoch 138/200\n",
      "214/214 [==============================] - 1s 5ms/step - loss: 0.0069 - accuracy: 1.4667e-04 - val_loss: 0.0068 - val_accuracy: 5.8651e-04\n",
      "Epoch 139/200\n",
      "214/214 [==============================] - 1s 5ms/step - loss: 0.0069 - accuracy: 1.4667e-04 - val_loss: 0.0068 - val_accuracy: 5.8651e-04\n",
      "Epoch 140/200\n",
      "214/214 [==============================] - 1s 5ms/step - loss: 0.0069 - accuracy: 1.4667e-04 - val_loss: 0.0068 - val_accuracy: 5.8651e-04\n",
      "Epoch 141/200\n",
      "214/214 [==============================] - 1s 5ms/step - loss: 0.0069 - accuracy: 1.4667e-04 - val_loss: 0.0068 - val_accuracy: 5.8651e-04\n",
      "Epoch 142/200\n",
      "214/214 [==============================] - 1s 5ms/step - loss: 0.0069 - accuracy: 1.4667e-04 - val_loss: 0.0067 - val_accuracy: 5.8651e-04\n",
      "Epoch 143/200\n",
      "214/214 [==============================] - 1s 5ms/step - loss: 0.0069 - accuracy: 1.4667e-04 - val_loss: 0.0067 - val_accuracy: 5.8651e-04\n",
      "Epoch 144/200\n",
      "214/214 [==============================] - 1s 5ms/step - loss: 0.0069 - accuracy: 1.4667e-04 - val_loss: 0.0069 - val_accuracy: 5.8651e-04\n",
      "Epoch 145/200\n",
      "214/214 [==============================] - 1s 5ms/step - loss: 0.0069 - accuracy: 1.4667e-04 - val_loss: 0.0072 - val_accuracy: 5.8651e-04\n",
      "Epoch 146/200\n",
      "214/214 [==============================] - 1s 5ms/step - loss: 0.0069 - accuracy: 1.4667e-04 - val_loss: 0.0067 - val_accuracy: 5.8651e-04\n",
      "Epoch 147/200\n",
      "214/214 [==============================] - 1s 5ms/step - loss: 0.0070 - accuracy: 1.4667e-04 - val_loss: 0.0067 - val_accuracy: 5.8651e-04\n",
      "Epoch 148/200\n",
      "214/214 [==============================] - 1s 5ms/step - loss: 0.0069 - accuracy: 1.4667e-04 - val_loss: 0.0067 - val_accuracy: 5.8651e-04\n",
      "Epoch 149/200\n",
      "214/214 [==============================] - 1s 5ms/step - loss: 0.0069 - accuracy: 1.4667e-04 - val_loss: 0.0068 - val_accuracy: 5.8651e-04\n",
      "Epoch 150/200\n",
      "214/214 [==============================] - 1s 5ms/step - loss: 0.0069 - accuracy: 1.4667e-04 - val_loss: 0.0068 - val_accuracy: 5.8651e-04\n",
      "Epoch 151/200\n",
      "214/214 [==============================] - 1s 5ms/step - loss: 0.0069 - accuracy: 1.4667e-04 - val_loss: 0.0067 - val_accuracy: 5.8651e-04\n",
      "Epoch 152/200\n",
      "214/214 [==============================] - 1s 5ms/step - loss: 0.0069 - accuracy: 1.4667e-04 - val_loss: 0.0068 - val_accuracy: 5.8651e-04\n",
      "Epoch 153/200\n",
      "214/214 [==============================] - 1s 5ms/step - loss: 0.0069 - accuracy: 1.4667e-04 - val_loss: 0.0067 - val_accuracy: 5.8651e-04\n",
      "Epoch 154/200\n",
      "214/214 [==============================] - 1s 5ms/step - loss: 0.0069 - accuracy: 1.4667e-04 - val_loss: 0.0068 - val_accuracy: 5.8651e-04\n",
      "Epoch 155/200\n",
      "214/214 [==============================] - 1s 5ms/step - loss: 0.0069 - accuracy: 1.4667e-04 - val_loss: 0.0068 - val_accuracy: 5.8651e-04\n",
      "Epoch 156/200\n",
      "214/214 [==============================] - 1s 5ms/step - loss: 0.0069 - accuracy: 1.4667e-04 - val_loss: 0.0068 - val_accuracy: 5.8651e-04\n",
      "Epoch 157/200\n",
      "214/214 [==============================] - 1s 5ms/step - loss: 0.0069 - accuracy: 1.4667e-04 - val_loss: 0.0067 - val_accuracy: 5.8651e-04\n",
      "Epoch 158/200\n",
      "214/214 [==============================] - 1s 5ms/step - loss: 0.0068 - accuracy: 1.4667e-04 - val_loss: 0.0068 - val_accuracy: 5.8651e-04\n",
      "Epoch 159/200\n",
      "214/214 [==============================] - 1s 5ms/step - loss: 0.0069 - accuracy: 1.4667e-04 - val_loss: 0.0067 - val_accuracy: 5.8651e-04\n",
      "Epoch 160/200\n",
      "214/214 [==============================] - 1s 5ms/step - loss: 0.0069 - accuracy: 1.4667e-04 - val_loss: 0.0068 - val_accuracy: 5.8651e-04\n",
      "Epoch 161/200\n",
      "214/214 [==============================] - 1s 5ms/step - loss: 0.0069 - accuracy: 1.4667e-04 - val_loss: 0.0067 - val_accuracy: 5.8651e-04\n",
      "Epoch 162/200\n",
      "214/214 [==============================] - 1s 6ms/step - loss: 0.0069 - accuracy: 1.4667e-04 - val_loss: 0.0067 - val_accuracy: 5.8651e-04\n",
      "Epoch 163/200\n",
      "214/214 [==============================] - 1s 5ms/step - loss: 0.0068 - accuracy: 1.4667e-04 - val_loss: 0.0067 - val_accuracy: 5.8651e-04\n",
      "Epoch 164/200\n",
      "214/214 [==============================] - 1s 5ms/step - loss: 0.0069 - accuracy: 1.4667e-04 - val_loss: 0.0068 - val_accuracy: 5.8651e-04\n",
      "Epoch 165/200\n",
      "214/214 [==============================] - 1s 5ms/step - loss: 0.0070 - accuracy: 1.4667e-04 - val_loss: 0.0073 - val_accuracy: 5.8651e-04\n",
      "Epoch 166/200\n",
      "214/214 [==============================] - 1s 5ms/step - loss: 0.0069 - accuracy: 1.4667e-04 - val_loss: 0.0067 - val_accuracy: 5.8651e-04\n",
      "Epoch 167/200\n",
      "214/214 [==============================] - 1s 5ms/step - loss: 0.0069 - accuracy: 1.4667e-04 - val_loss: 0.0067 - val_accuracy: 5.8651e-04\n",
      "Epoch 168/200\n",
      "214/214 [==============================] - 1s 5ms/step - loss: 0.0069 - accuracy: 1.4667e-04 - val_loss: 0.0068 - val_accuracy: 5.8651e-04\n",
      "Epoch 169/200\n",
      "214/214 [==============================] - 1s 5ms/step - loss: 0.0069 - accuracy: 1.4667e-04 - val_loss: 0.0069 - val_accuracy: 5.8651e-04\n",
      "Epoch 170/200\n",
      "214/214 [==============================] - 1s 6ms/step - loss: 0.0069 - accuracy: 1.4667e-04 - val_loss: 0.0068 - val_accuracy: 5.8651e-04\n",
      "Epoch 171/200\n",
      "214/214 [==============================] - 1s 5ms/step - loss: 0.0069 - accuracy: 1.4667e-04 - val_loss: 0.0068 - val_accuracy: 5.8651e-04\n",
      "Epoch 172/200\n",
      "214/214 [==============================] - 1s 5ms/step - loss: 0.0068 - accuracy: 1.4667e-04 - val_loss: 0.0067 - val_accuracy: 5.8651e-04\n",
      "Epoch 173/200\n",
      "214/214 [==============================] - 1s 5ms/step - loss: 0.0069 - accuracy: 1.4667e-04 - val_loss: 0.0067 - val_accuracy: 5.8651e-04\n",
      "Epoch 174/200\n",
      "214/214 [==============================] - 1s 5ms/step - loss: 0.0069 - accuracy: 1.4667e-04 - val_loss: 0.0068 - val_accuracy: 5.8651e-04\n",
      "Epoch 175/200\n",
      "214/214 [==============================] - 1s 5ms/step - loss: 0.0068 - accuracy: 1.4667e-04 - val_loss: 0.0068 - val_accuracy: 5.8651e-04\n",
      "Epoch 176/200\n",
      "214/214 [==============================] - 1s 5ms/step - loss: 0.0069 - accuracy: 1.4667e-04 - val_loss: 0.0067 - val_accuracy: 5.8651e-04\n",
      "Epoch 177/200\n",
      "214/214 [==============================] - 1s 5ms/step - loss: 0.0069 - accuracy: 1.4667e-04 - val_loss: 0.0067 - val_accuracy: 5.8651e-04\n",
      "Epoch 178/200\n",
      "214/214 [==============================] - 1s 5ms/step - loss: 0.0069 - accuracy: 1.4667e-04 - val_loss: 0.0071 - val_accuracy: 5.8651e-04\n",
      "Epoch 179/200\n",
      "214/214 [==============================] - 1s 5ms/step - loss: 0.0069 - accuracy: 1.4667e-04 - val_loss: 0.0068 - val_accuracy: 5.8651e-04\n",
      "Epoch 180/200\n",
      "214/214 [==============================] - 1s 5ms/step - loss: 0.0069 - accuracy: 1.4667e-04 - val_loss: 0.0067 - val_accuracy: 5.8651e-04\n",
      "Epoch 181/200\n",
      "214/214 [==============================] - 1s 5ms/step - loss: 0.0068 - accuracy: 1.4667e-04 - val_loss: 0.0069 - val_accuracy: 5.8651e-04\n",
      "Epoch 182/200\n",
      "214/214 [==============================] - 1s 5ms/step - loss: 0.0069 - accuracy: 1.4667e-04 - val_loss: 0.0067 - val_accuracy: 5.8651e-04\n",
      "Epoch 183/200\n",
      "214/214 [==============================] - 1s 5ms/step - loss: 0.0069 - accuracy: 1.4667e-04 - val_loss: 0.0068 - val_accuracy: 5.8651e-04\n",
      "Epoch 184/200\n",
      "214/214 [==============================] - 1s 5ms/step - loss: 0.0069 - accuracy: 1.4667e-04 - val_loss: 0.0067 - val_accuracy: 5.8651e-04\n",
      "Epoch 185/200\n",
      "214/214 [==============================] - 1s 5ms/step - loss: 0.0068 - accuracy: 1.4667e-04 - val_loss: 0.0067 - val_accuracy: 5.8651e-04\n",
      "Epoch 186/200\n",
      "214/214 [==============================] - 1s 5ms/step - loss: 0.0068 - accuracy: 1.4667e-04 - val_loss: 0.0069 - val_accuracy: 5.8651e-04\n",
      "Epoch 187/200\n",
      "214/214 [==============================] - 1s 5ms/step - loss: 0.0068 - accuracy: 1.4667e-04 - val_loss: 0.0067 - val_accuracy: 5.8651e-04\n",
      "Epoch 188/200\n",
      "214/214 [==============================] - 1s 5ms/step - loss: 0.0068 - accuracy: 1.4667e-04 - val_loss: 0.0067 - val_accuracy: 5.8651e-04\n",
      "Epoch 189/200\n",
      "214/214 [==============================] - 1s 5ms/step - loss: 0.0068 - accuracy: 1.4667e-04 - val_loss: 0.0069 - val_accuracy: 5.8651e-04\n",
      "Epoch 190/200\n",
      "214/214 [==============================] - 1s 5ms/step - loss: 0.0069 - accuracy: 1.4667e-04 - val_loss: 0.0068 - val_accuracy: 5.8651e-04\n",
      "Epoch 191/200\n",
      "214/214 [==============================] - 1s 5ms/step - loss: 0.0068 - accuracy: 1.4667e-04 - val_loss: 0.0069 - val_accuracy: 5.8651e-04\n",
      "Epoch 192/200\n",
      "214/214 [==============================] - 1s 5ms/step - loss: 0.0068 - accuracy: 1.4667e-04 - val_loss: 0.0067 - val_accuracy: 5.8651e-04\n",
      "Epoch 193/200\n",
      "214/214 [==============================] - 1s 5ms/step - loss: 0.0068 - accuracy: 1.4667e-04 - val_loss: 0.0068 - val_accuracy: 5.8651e-04\n",
      "Epoch 194/200\n",
      "214/214 [==============================] - 1s 5ms/step - loss: 0.0068 - accuracy: 1.4667e-04 - val_loss: 0.0067 - val_accuracy: 5.8651e-04\n",
      "Epoch 195/200\n",
      "214/214 [==============================] - 1s 5ms/step - loss: 0.0068 - accuracy: 1.4667e-04 - val_loss: 0.0068 - val_accuracy: 5.8651e-04\n",
      "Epoch 196/200\n",
      "214/214 [==============================] - 1s 5ms/step - loss: 0.0068 - accuracy: 1.4667e-04 - val_loss: 0.0068 - val_accuracy: 5.8651e-04\n",
      "Epoch 197/200\n",
      "214/214 [==============================] - 1s 5ms/step - loss: 0.0068 - accuracy: 1.4667e-04 - val_loss: 0.0068 - val_accuracy: 5.8651e-04\n",
      "Epoch 198/200\n",
      "214/214 [==============================] - 1s 5ms/step - loss: 0.0069 - accuracy: 1.4667e-04 - val_loss: 0.0074 - val_accuracy: 5.8651e-04\n",
      "Epoch 199/200\n",
      "214/214 [==============================] - 1s 5ms/step - loss: 0.0069 - accuracy: 1.4667e-04 - val_loss: 0.0067 - val_accuracy: 5.8651e-04\n",
      "Epoch 200/200\n",
      "214/214 [==============================] - 1s 5ms/step - loss: 0.0069 - accuracy: 1.4667e-04 - val_loss: 0.0067 - val_accuracy: 5.8651e-04\n"
     ]
    }
   ],
   "source": [
    "model_history = model.fit(X_train, y_train, validation_data=(X_test, y_test), epochs=200)"
   ]
  },
  {
   "cell_type": "code",
   "execution_count": 13,
   "metadata": {
    "colab": {
     "base_uri": "https://localhost:8080/",
     "height": 295
    },
    "id": "kA8TTP8ePUci",
    "outputId": "b266c0fb-8a62-4b36-8e32-3c78b6958c26"
   },
   "outputs": [
    {
     "data": {
      "image/png": "[encoded data removed]",
      "text/plain": [
       "<Figure size 432x288 with 1 Axes>"
      ]
     },
     "metadata": {
      "needs_background": "light"
     },
     "output_type": "display_data"
    }
   ],
   "source": [
    "# summarize history for loss\n",
    "plt.plot(model_history.history['loss'])\n",
    "plt.plot(model_history.history['val_loss'])\n",
    "plt.title('model loss')\n",
    "plt.ylabel('loss')\n",
    "plt.xlabel('epoch')\n",
    "plt.legend(['train', 'validation'], loc='upper left')\n",
    "plt.show()\n"
   ]
  },
  {
   "cell_type": "code",
   "execution_count": 15,
   "metadata": {},
   "outputs": [],
   "source": [
    "import sys\n",
    "np.set_printoptions(threshold=sys.maxsize)\n",
    "\n",
    "prediction = model.predict(X_train).astype(float)\n"
   ]
  },
  {
   "cell_type": "markdown",
   "metadata": {},
   "source": [
    "  "
   ]
  },
  {
   "cell_type": "markdown",
   "metadata": {},
   "source": [
    "Post Processing and testing"
   ]
  },
  {
   "cell_type": "code",
   "execution_count": 20,
   "metadata": {},
   "outputs": [
    {
     "data": {
      "text/plain": [
       "0.012340130284428596"
      ]
     },
     "execution_count": 20,
     "metadata": {},
     "output_type": "execute_result"
    }
   ],
   "source": [
    "prediction.min()"
   ]
  },
  {
   "cell_type": "code",
   "execution_count": 22,
   "metadata": {},
   "outputs": [
    {
     "data": {
      "text/plain": [
       "0.46157604455947876"
      ]
     },
     "execution_count": 22,
     "metadata": {},
     "output_type": "execute_result"
    }
   ],
   "source": [
    "prediction.max()"
   ]
  },
  {
   "cell_type": "code",
   "execution_count": 19,
   "metadata": {},
   "outputs": [],
   "source": [
    "maxvalue = 13086.96\n",
    "minvalue = 33.29\n",
    "minmaxdifference = 13053.67"
   ]
  },
  {
   "cell_type": "code",
   "execution_count": 34,
   "metadata": {},
   "outputs": [],
   "source": [
    "# reverse normalization\n",
    "regression = []\n",
    "for i in range(0,len(prediction)):   \n",
    "    regression.append((prediction[i][0] * minmaxdifference) + minvalue)\n",
    "   "
   ]
  },
  {
   "cell_type": "markdown",
   "metadata": {
    "colab_type": "text",
    "id": "2ObzQqyYgUSc"
   },
   "source": [
    "<img src='https://drive.google.com/uc?id=1Z7wN2BE8CDSYIJly5l0K9uqYdj9WUo3f'>"
   ]
  },
  {
   "cell_type": "code",
   "execution_count": 17,
   "metadata": {},
   "outputs": [],
   "source": [
    "sp = model.predict(test_data.astype(float))"
   ]
  },
  {
   "cell_type": "code",
   "execution_count": 20,
   "metadata": {},
   "outputs": [],
   "source": [
    "# reverse normalization \n",
    "ss = []\n",
    "for i in range(0,len(sp)):   \n",
    "    ss.append((sp[i][0] * minmaxdifference) + minvalue)"
   ]
  },
  {
   "cell_type": "code",
   "execution_count": 30,
   "metadata": {},
   "outputs": [],
   "source": [
    "ss = pd.DataFrame(ss)\n",
    "ss.to_csv('predictions.csv',index=False,header=False)"
   ]
  }
 ],
 "metadata": {
  "accelerator": "GPU",
  "colab": {
   "name": "Untitled6.ipynb",
   "provenance": []
  },
  "kernelspec": {
   "display_name": "Python 3 (ipykernel)",
   "language": "python",
   "name": "python3"
  },
  "language_info": {
   "codemirror_mode": {
    "name": "ipython",
    "version": 3
   },
   "file_extension": ".py",
   "mimetype": "text/x-python",
   "name": "python",
   "nbconvert_exporter": "python",
   "pygments_lexer": "ipython3",
   "version": "3.8.11"
  },
  "toc-showcode": true,
  "toc-showmarkdowntxt": true
 },
 "nbformat": 4,
 "nbformat_minor": 4
}
